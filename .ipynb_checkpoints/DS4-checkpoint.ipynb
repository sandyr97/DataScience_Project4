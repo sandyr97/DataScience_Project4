{
 "cells": [
  {
   "cell_type": "markdown",
   "metadata": {},
   "source": [
    "# Major Leagues"
   ]
  },
  {
   "cell_type": "code",
   "execution_count": 1,
   "metadata": {},
   "outputs": [],
   "source": [
    "import pandas as pd\n",
    "import numpy as np\n",
    "\n",
    "df_mlb=pd.read_csv(\"mlb_elo.csv\")\n",
    "df_mlb_latest=pd.read_csv(\"mlb_elo_latest.csv\")"
   ]
  },
  {
   "cell_type": "markdown",
   "metadata": {},
   "source": [
    "## MLB DataFrame"
   ]
  },
  {
   "cell_type": "code",
   "execution_count": 2,
   "metadata": {},
   "outputs": [
    {
     "name": "stdout",
     "output_type": "stream",
     "text": [
      "         date  season  neutral playoff team1 team2     elo1_pre     elo2_pre  \\\n",
      "0  2019-10-30    2019        0       w   HOU   WSN  1599.542804  1584.363378   \n",
      "1  2019-10-29    2019        0       w   HOU   WSN  1605.069000  1578.837182   \n",
      "2  2019-10-27    2019        0       w   WSN   HOU  1584.005206  1599.900976   \n",
      "3  2019-10-26    2019        0       w   WSN   HOU  1589.985555  1593.920627   \n",
      "4  2019-10-25    2019        0       w   WSN   HOU  1593.827376  1590.078806   \n",
      "5  2019-10-23    2019        0       w   HOU   WSN  1597.491698  1586.414484   \n",
      "6  2019-10-22    2019        0       w   HOU   WSN  1599.986054  1583.920128   \n",
      "7  2019-10-19    2019        0       l   HOU   NYY  1597.688468  1586.936089   \n",
      "8  2019-10-18    2019        0       l   NYY   HOU  1583.765417  1600.859140   \n",
      "9  2019-10-17    2019        0       l   NYY   HOU  1588.485661  1596.138896   \n",
      "\n",
      "   elo_prob1  elo_prob2   ...    pitcher1_rgs  pitcher2_rgs  pitcher1_adj  \\\n",
      "0   0.574617   0.425383   ...       56.920649     61.723620      0.989236   \n",
      "1   0.595209   0.404791   ...       62.975093     60.272516     28.723451   \n",
      "2   0.515546   0.484454   ...       49.433198     66.891460    -29.811205   \n",
      "3   0.538425   0.461575   ...       56.003581     51.251046      0.823752   \n",
      "4   0.553044   0.446956   ...       54.036365     57.096801     -9.053908   \n",
      "5   0.566903   0.433097   ...       63.845731     60.259417     33.678747   \n",
      "6   0.576279   0.423721   ...       67.996953     61.808136     52.677096   \n",
      "7   0.566291   0.433709   ...       52.087713     48.475347    -22.416202   \n",
      "8   0.513249   0.486751   ...       54.857787     63.917704     14.066719   \n",
      "9   0.531325   0.468675   ...       54.835961     56.966743     13.900785   \n",
      "\n",
      "   pitcher2_adj rating_prob1 rating_prob2  rating1_post  rating2_post  score1  \\\n",
      "0     27.776342     0.515172     0.484828   1587.973463   1583.382133       2   \n",
      "1     21.776276     0.594638     0.405362   1591.026009   1580.329587       2   \n",
      "2     47.888341     0.373102     0.626898   1576.189971   1595.165625       1   \n",
      "3    -24.893480     0.586974     0.413026   1578.722119   1592.633477       1   \n",
      "4      2.440389     0.526852     0.473148   1583.715416   1587.640180       1   \n",
      "5     20.410857     0.590066     0.409934   1584.926863   1586.428733       3   \n",
      "6     27.889283     0.620572     0.379428   1590.771841   1580.583755       4   \n",
      "7    -16.878570     0.543097     0.456903   1592.827193   1585.084800       6   \n",
      "8     33.451616     0.491436     0.508564   1586.929206   1590.982787       4   \n",
      "9      0.913489     0.567884     0.432116   1584.416675   1593.495319       3   \n",
      "\n",
      "   score2  \n",
      "0       6  \n",
      "1       7  \n",
      "2       7  \n",
      "3       8  \n",
      "4       4  \n",
      "5      12  \n",
      "6       5  \n",
      "7       4  \n",
      "8       1  \n",
      "9       8  \n",
      "\n",
      "[10 rows x 26 columns]\n"
     ]
    }
   ],
   "source": [
    "print(df_mlb.head(10))"
   ]
  },
  {
   "cell_type": "markdown",
   "metadata": {},
   "source": [
    "## MBL Latest DataFrame"
   ]
  },
  {
   "cell_type": "code",
   "execution_count": 3,
   "metadata": {},
   "outputs": [
    {
     "name": "stdout",
     "output_type": "stream",
     "text": [
      "         date  season  neutral playoff team1 team2     elo1_pre     elo2_pre  \\\n",
      "0  2019-10-30    2019        0       w   HOU   WSN  1599.542804  1584.363378   \n",
      "1  2019-10-29    2019        0       w   HOU   WSN  1605.069000  1578.837182   \n",
      "2  2019-10-27    2019        0       w   WSN   HOU  1584.005206  1599.900976   \n",
      "3  2019-10-26    2019        0       w   WSN   HOU  1589.985555  1593.920627   \n",
      "4  2019-10-25    2019        0       w   WSN   HOU  1593.827376  1590.078806   \n",
      "5  2019-10-23    2019        0       w   HOU   WSN  1597.491698  1586.414484   \n",
      "6  2019-10-22    2019        0       w   HOU   WSN  1599.986054  1583.920128   \n",
      "7  2019-10-19    2019        0       l   HOU   NYY  1597.688468  1586.936089   \n",
      "8  2019-10-18    2019        0       l   NYY   HOU  1583.765417  1600.859140   \n",
      "9  2019-10-17    2019        0       l   NYY   HOU  1588.485661  1596.138896   \n",
      "\n",
      "   elo_prob1  elo_prob2   ...    pitcher1_rgs  pitcher2_rgs  pitcher1_adj  \\\n",
      "0   0.574617   0.425383   ...       56.920649     61.723620      0.989236   \n",
      "1   0.595209   0.404791   ...       62.975093     60.272516     28.723451   \n",
      "2   0.515546   0.484454   ...       49.433198     66.891460    -29.811205   \n",
      "3   0.538425   0.461575   ...       56.003581     51.251046      0.823752   \n",
      "4   0.553044   0.446956   ...       54.036365     57.096801     -9.053908   \n",
      "5   0.566903   0.433097   ...       63.845731     60.259417     33.678747   \n",
      "6   0.576279   0.423721   ...       67.996953     61.808136     52.677096   \n",
      "7   0.566291   0.433709   ...       52.087713     48.475347    -22.416202   \n",
      "8   0.513249   0.486751   ...       54.857787     63.917704     14.066719   \n",
      "9   0.531325   0.468675   ...       54.835961     56.966743     13.900785   \n",
      "\n",
      "   pitcher2_adj rating_prob1 rating_prob2  rating1_post  rating2_post  score1  \\\n",
      "0     27.776342     0.515172     0.484828   1587.973463   1583.382133       2   \n",
      "1     21.776276     0.594638     0.405362   1591.026009   1580.329587       2   \n",
      "2     47.888341     0.373102     0.626898   1576.189971   1595.165625       1   \n",
      "3    -24.893480     0.586974     0.413026   1578.722119   1592.633477       1   \n",
      "4      2.440389     0.526852     0.473148   1583.715416   1587.640180       1   \n",
      "5     20.410857     0.590066     0.409934   1584.926863   1586.428733       3   \n",
      "6     27.889283     0.620572     0.379428   1590.771841   1580.583755       4   \n",
      "7    -16.878570     0.543097     0.456903   1592.827193   1585.084800       6   \n",
      "8     33.451616     0.491436     0.508564   1586.929206   1590.982787       4   \n",
      "9      0.913489     0.567884     0.432116   1584.416675   1593.495319       3   \n",
      "\n",
      "   score2  \n",
      "0       6  \n",
      "1       7  \n",
      "2       7  \n",
      "3       8  \n",
      "4       4  \n",
      "5      12  \n",
      "6       5  \n",
      "7       4  \n",
      "8       1  \n",
      "9       8  \n",
      "\n",
      "[10 rows x 26 columns]\n"
     ]
    }
   ],
   "source": [
    "print(df_mlb_latest.head(10))"
   ]
  },
  {
   "cell_type": "code",
   "execution_count": 4,
   "metadata": {},
   "outputs": [
    {
     "data": {
      "text/plain": [
       "array(['HOU', 'WSN', 'NYY', 'STL', 'LAD', 'ATL', 'TBD', 'MIN', 'OAK',\n",
       "       'KCR', 'SEA', 'NYM', 'COL', 'CHW', 'ARI', 'TOR', 'ANA', 'TEX',\n",
       "       'SFG', 'PIT', 'PHI', 'BOS', 'SDP', 'DET', 'CIN', 'CLE', 'CHC',\n",
       "       'MIL', 'FLA', 'BAL', 'WS9', 'BL2', 'CL3', 'LS2', 'PHP', 'ML3',\n",
       "       'BSP', 'CL6', 'CN3', 'PH4', 'SR2', 'RC2', 'TL2', 'BR4', 'IN3',\n",
       "       'KC2', 'WS8', 'DTN', 'NY4', 'SLU', 'KCN', 'BFN', 'PRO', 'RIC',\n",
       "       'CL2', 'TL1', 'CL5', 'IN2', 'WS7', 'WOR', 'TRN', 'CN1', 'SR1',\n",
       "       'ML1', 'IN1', 'SL2', 'LS1', 'HR1', 'NY2', 'PH1', 'NH1', 'PH2',\n",
       "       'BR2', 'SL1', 'KEO', 'WS6', 'PH3', 'BL1', 'WS5', 'ELI', 'BL4',\n",
       "       'BR1', 'CL1', 'MID', 'TRO', 'WS4', 'WS3', 'FW1', 'RC1'],\n",
       "      dtype=object)"
      ]
     },
     "execution_count": 4,
     "metadata": {},
     "output_type": "execute_result"
    }
   ],
   "source": [
    "teams = df_mlb['team1']. unique()\n",
    "teams"
   ]
  },
  {
   "cell_type": "code",
   "execution_count": 5,
   "metadata": {},
   "outputs": [
    {
     "data": {
      "text/plain": [
       "team2\n",
       "ANA     4.418251\n",
       "ARI     4.289284\n",
       "ATL     4.415851\n",
       "BAL     4.226244\n",
       "BFN     4.588589\n",
       "BL1     7.825581\n",
       "BL2     5.362434\n",
       "BL4     4.600000\n",
       "BOS     4.357090\n",
       "BR1     5.071429\n",
       "BR2     4.707865\n",
       "BR4     4.387097\n",
       "BSP     7.347826\n",
       "CHC     4.367187\n",
       "CHW     4.329189\n",
       "CIN     4.310453\n",
       "CL1     8.322581\n",
       "CL2     4.383212\n",
       "CL3     4.881269\n",
       "CL5     5.504762\n",
       "CL6     5.296296\n",
       "CLE     4.459867\n",
       "CN1     4.517045\n",
       "CN3     4.438596\n",
       "COL     3.946133\n",
       "DET     4.454701\n",
       "DTN     5.054299\n",
       "ELI     4.266667\n",
       "FLA     4.271093\n",
       "FW1     5.900000\n",
       "         ...    \n",
       "PIT     4.341316\n",
       "PRO     5.493151\n",
       "RC1     8.833333\n",
       "RC2     5.157143\n",
       "RIC     4.083333\n",
       "SDP     4.176010\n",
       "SEA     4.474571\n",
       "SFG     4.606003\n",
       "SL1     2.000000\n",
       "SL2     5.470000\n",
       "SLU     3.750000\n",
       "SR1     4.351351\n",
       "SR2     5.558824\n",
       "STL     4.422239\n",
       "TBD     4.453637\n",
       "TEX     4.324878\n",
       "TL1     3.509091\n",
       "TL2     4.787879\n",
       "TOR     4.496956\n",
       "TRN     4.214724\n",
       "TRO    11.920000\n",
       "WOR     3.952381\n",
       "WS3     8.200000\n",
       "WS4     3.750000\n",
       "WS5     6.000000\n",
       "WS6     3.875000\n",
       "WS7     3.363636\n",
       "WS8     3.908745\n",
       "WS9     4.794753\n",
       "WSN     4.106083\n",
       "Name: score2, Length: 89, dtype: float64"
      ]
     },
     "execution_count": 5,
     "metadata": {},
     "output_type": "execute_result"
    }
   ],
   "source": [
    "avgAway=df_mlb.groupby('team2').score2.mean()\n",
    "avgAway"
   ]
  },
  {
   "cell_type": "code",
   "execution_count": 6,
   "metadata": {},
   "outputs": [],
   "source": [
    "avgAwayList=[]\n",
    "for x in range(0, len(avgAway)):\n",
    "    avgAwayList.append(avgAway[x])"
   ]
  },
  {
   "cell_type": "code",
   "execution_count": 7,
   "metadata": {},
   "outputs": [
    {
     "data": {
      "text/plain": [
       "team1\n",
       "ANA     4.248897\n",
       "ARI     4.803106\n",
       "ATL     4.654961\n",
       "BAL     4.394303\n",
       "BFN     6.018576\n",
       "BL1    10.684211\n",
       "BL2     6.706522\n",
       "BL4     3.000000\n",
       "BOS     4.972006\n",
       "BR1     5.357143\n",
       "BR2     5.951456\n",
       "BR4     5.789474\n",
       "BSP     7.428571\n",
       "CHC     4.865551\n",
       "CHW     4.373861\n",
       "CIN     4.655382\n",
       "CL1     8.250000\n",
       "CL2     4.487273\n",
       "CL3     6.406061\n",
       "CL5     4.715686\n",
       "CL6     5.762376\n",
       "CLE     4.595838\n",
       "CN1     4.930233\n",
       "CN3     6.533333\n",
       "COL     6.150115\n",
       "DET     4.757010\n",
       "DTN     5.988584\n",
       "ELI     4.250000\n",
       "FLA     4.244465\n",
       "FW1     8.666667\n",
       "         ...    \n",
       "PIT     4.585577\n",
       "PRO     5.636111\n",
       "RC1    10.285714\n",
       "RC2     5.523810\n",
       "RIC     4.363636\n",
       "SDP     3.824566\n",
       "SEA     4.416182\n",
       "SFG     4.635378\n",
       "SL1     3.571429\n",
       "SL2     5.414894\n",
       "SLU     4.157025\n",
       "SR1     3.382353\n",
       "SR2     5.350000\n",
       "STL     4.740248\n",
       "TBD     4.363383\n",
       "TEX     4.691496\n",
       "TL1     4.854545\n",
       "TL2     6.205882\n",
       "TOR     4.733796\n",
       "TRN     5.119760\n",
       "TRO    11.241379\n",
       "WOR     5.579365\n",
       "WS3     9.523810\n",
       "WS4     9.285714\n",
       "WS5     8.722222\n",
       "WS6     3.750000\n",
       "WS7     4.566667\n",
       "WS8     4.501992\n",
       "WS9     6.158833\n",
       "WSN     4.263896\n",
       "Name: score1, Length: 89, dtype: float64"
      ]
     },
     "execution_count": 7,
     "metadata": {},
     "output_type": "execute_result"
    }
   ],
   "source": [
    "avgHome=df_mlb.groupby(['team1']).score1.mean()\n",
    "avgHome\n"
   ]
  },
  {
   "cell_type": "code",
   "execution_count": 8,
   "metadata": {},
   "outputs": [
    {
     "data": {
      "text/plain": [
       "[4.248897290485192,\n",
       " 4.803105934553522,\n",
       " 4.6549611339734795,\n",
       " 4.3943028485757125,\n",
       " 6.018575851393189,\n",
       " 10.68421052631579,\n",
       " 6.706521739130435,\n",
       " 3.0,\n",
       " 4.972006386375732,\n",
       " 5.357142857142857,\n",
       " 5.951456310679611,\n",
       " 5.7894736842105265,\n",
       " 7.428571428571429,\n",
       " 4.865550805057764,\n",
       " 4.37386083413745,\n",
       " 4.65538202562424,\n",
       " 8.25,\n",
       " 4.487272727272727,\n",
       " 6.406060606060606,\n",
       " 4.715686274509804,\n",
       " 5.762376237623762,\n",
       " 4.595837780149413,\n",
       " 4.930232558139535,\n",
       " 6.533333333333333,\n",
       " 6.150115473441109,\n",
       " 4.757010342253972,\n",
       " 5.988584474885845,\n",
       " 4.25,\n",
       " 4.2444649446494465,\n",
       " 8.666666666666666,\n",
       " 4.178891257995736,\n",
       " 7.030534351145038,\n",
       " 3.7857142857142856,\n",
       " 4.2,\n",
       " 5.889447236180905,\n",
       " 6.716535433070866,\n",
       " 4.810344827586207,\n",
       " 4.54017094017094,\n",
       " 3.75,\n",
       " 4.478756476683937,\n",
       " 5.806451612903226,\n",
       " 5.7355298308103295,\n",
       " 9.4,\n",
       " 4.460333006856024,\n",
       " 4.474037743895938,\n",
       " 5.08,\n",
       " 8.19047619047619,\n",
       " 3.2222222222222223,\n",
       " 7.409836065573771,\n",
       " 5.601423487544484,\n",
       " 3.97220440453282,\n",
       " 4.864303049488234,\n",
       " 4.47006533147692,\n",
       " 10.35672514619883,\n",
       " 8.94186046511628,\n",
       " 3.5714285714285716,\n",
       " 6.9911190053285965,\n",
       " 4.663914198936978,\n",
       " 6.458333333333333,\n",
       " 4.585577104123518,\n",
       " 5.636111111111111,\n",
       " 10.285714285714286,\n",
       " 5.523809523809524,\n",
       " 4.363636363636363,\n",
       " 3.824565696109616,\n",
       " 4.416181606519208,\n",
       " 4.635378380925455,\n",
       " 3.5714285714285716,\n",
       " 5.414893617021277,\n",
       " 4.1570247933884295,\n",
       " 3.3823529411764706,\n",
       " 5.35,\n",
       " 4.740247649194675,\n",
       " 4.363383416805787,\n",
       " 4.691496096222832,\n",
       " 4.8545454545454545,\n",
       " 6.205882352941177,\n",
       " 4.733796296296297,\n",
       " 5.119760479041916,\n",
       " 11.241379310344827,\n",
       " 5.579365079365079,\n",
       " 9.523809523809524,\n",
       " 9.285714285714286,\n",
       " 8.722222222222221,\n",
       " 3.75,\n",
       " 4.566666666666666,\n",
       " 4.50199203187251,\n",
       " 6.158833063209076,\n",
       " 4.263895720609936]"
      ]
     },
     "execution_count": 8,
     "metadata": {},
     "output_type": "execute_result"
    }
   ],
   "source": [
    "avgHomeList=[]\n",
    "for x in range(0, len(avgHome)):\n",
    "    avgHomeList.append(avgHome[x])\n",
    "avgHomeList"
   ]
  },
  {
   "cell_type": "markdown",
   "metadata": {},
   "source": [
    "References:\n",
    "\n",
    "https://towardsdatascience.com/a-beginners-guide-to-linear-regression-in-python-with-scikit-learn-83a8f7ae2b4f\n",
    "\n",
    "https://scikit-learn.org/stable/modules/linear_model.html\n",
    "\n",
    "Plot without regression line"
   ]
  },
  {
   "cell_type": "code",
   "execution_count": 9,
   "metadata": {},
   "outputs": [
    {
     "data": {
      "text/plain": [
       "<matplotlib.collections.PathCollection at 0x2d6701ee128>"
      ]
     },
     "execution_count": 9,
     "metadata": {},
     "output_type": "execute_result"
    }
   ],
   "source": [
    "import matplotlib.pyplot as plt\n",
    "\n",
    "plt.scatter(avgHomeList, avgAwayList)\n"
   ]
  },
  {
   "cell_type": "code",
   "execution_count": 10,
   "metadata": {},
   "outputs": [
    {
     "data": {
      "text/html": [
       "<div>\n",
       "<style scoped>\n",
       "    .dataframe tbody tr th:only-of-type {\n",
       "        vertical-align: middle;\n",
       "    }\n",
       "\n",
       "    .dataframe tbody tr th {\n",
       "        vertical-align: top;\n",
       "    }\n",
       "\n",
       "    .dataframe thead th {\n",
       "        text-align: right;\n",
       "    }\n",
       "</style>\n",
       "<table border=\"1\" class=\"dataframe\">\n",
       "  <thead>\n",
       "    <tr style=\"text-align: right;\">\n",
       "      <th></th>\n",
       "      <th>Home</th>\n",
       "      <th>Away</th>\n",
       "    </tr>\n",
       "  </thead>\n",
       "  <tbody>\n",
       "    <tr>\n",
       "      <th>0</th>\n",
       "      <td>4.248897</td>\n",
       "      <td>4.418251</td>\n",
       "    </tr>\n",
       "    <tr>\n",
       "      <th>1</th>\n",
       "      <td>4.803106</td>\n",
       "      <td>4.289284</td>\n",
       "    </tr>\n",
       "    <tr>\n",
       "      <th>2</th>\n",
       "      <td>4.654961</td>\n",
       "      <td>4.415851</td>\n",
       "    </tr>\n",
       "    <tr>\n",
       "      <th>3</th>\n",
       "      <td>4.394303</td>\n",
       "      <td>4.226244</td>\n",
       "    </tr>\n",
       "    <tr>\n",
       "      <th>4</th>\n",
       "      <td>6.018576</td>\n",
       "      <td>4.588589</td>\n",
       "    </tr>\n",
       "    <tr>\n",
       "      <th>5</th>\n",
       "      <td>10.684211</td>\n",
       "      <td>7.825581</td>\n",
       "    </tr>\n",
       "    <tr>\n",
       "      <th>6</th>\n",
       "      <td>6.706522</td>\n",
       "      <td>5.362434</td>\n",
       "    </tr>\n",
       "    <tr>\n",
       "      <th>7</th>\n",
       "      <td>3.000000</td>\n",
       "      <td>4.600000</td>\n",
       "    </tr>\n",
       "    <tr>\n",
       "      <th>8</th>\n",
       "      <td>4.972006</td>\n",
       "      <td>4.357090</td>\n",
       "    </tr>\n",
       "    <tr>\n",
       "      <th>9</th>\n",
       "      <td>5.357143</td>\n",
       "      <td>5.071429</td>\n",
       "    </tr>\n",
       "    <tr>\n",
       "      <th>10</th>\n",
       "      <td>5.951456</td>\n",
       "      <td>4.707865</td>\n",
       "    </tr>\n",
       "    <tr>\n",
       "      <th>11</th>\n",
       "      <td>5.789474</td>\n",
       "      <td>4.387097</td>\n",
       "    </tr>\n",
       "    <tr>\n",
       "      <th>12</th>\n",
       "      <td>7.428571</td>\n",
       "      <td>7.347826</td>\n",
       "    </tr>\n",
       "    <tr>\n",
       "      <th>13</th>\n",
       "      <td>4.865551</td>\n",
       "      <td>4.367187</td>\n",
       "    </tr>\n",
       "    <tr>\n",
       "      <th>14</th>\n",
       "      <td>4.373861</td>\n",
       "      <td>4.329189</td>\n",
       "    </tr>\n",
       "    <tr>\n",
       "      <th>15</th>\n",
       "      <td>4.655382</td>\n",
       "      <td>4.310453</td>\n",
       "    </tr>\n",
       "    <tr>\n",
       "      <th>16</th>\n",
       "      <td>8.250000</td>\n",
       "      <td>8.322581</td>\n",
       "    </tr>\n",
       "    <tr>\n",
       "      <th>17</th>\n",
       "      <td>4.487273</td>\n",
       "      <td>4.383212</td>\n",
       "    </tr>\n",
       "    <tr>\n",
       "      <th>18</th>\n",
       "      <td>6.406061</td>\n",
       "      <td>4.881269</td>\n",
       "    </tr>\n",
       "    <tr>\n",
       "      <th>19</th>\n",
       "      <td>4.715686</td>\n",
       "      <td>5.504762</td>\n",
       "    </tr>\n",
       "    <tr>\n",
       "      <th>20</th>\n",
       "      <td>5.762376</td>\n",
       "      <td>5.296296</td>\n",
       "    </tr>\n",
       "    <tr>\n",
       "      <th>21</th>\n",
       "      <td>4.595838</td>\n",
       "      <td>4.459867</td>\n",
       "    </tr>\n",
       "    <tr>\n",
       "      <th>22</th>\n",
       "      <td>4.930233</td>\n",
       "      <td>4.517045</td>\n",
       "    </tr>\n",
       "    <tr>\n",
       "      <th>23</th>\n",
       "      <td>6.533333</td>\n",
       "      <td>4.438596</td>\n",
       "    </tr>\n",
       "    <tr>\n",
       "      <th>24</th>\n",
       "      <td>6.150115</td>\n",
       "      <td>3.946133</td>\n",
       "    </tr>\n",
       "    <tr>\n",
       "      <th>25</th>\n",
       "      <td>4.757010</td>\n",
       "      <td>4.454701</td>\n",
       "    </tr>\n",
       "    <tr>\n",
       "      <th>26</th>\n",
       "      <td>5.988584</td>\n",
       "      <td>5.054299</td>\n",
       "    </tr>\n",
       "    <tr>\n",
       "      <th>27</th>\n",
       "      <td>4.250000</td>\n",
       "      <td>4.266667</td>\n",
       "    </tr>\n",
       "    <tr>\n",
       "      <th>28</th>\n",
       "      <td>4.244465</td>\n",
       "      <td>4.271093</td>\n",
       "    </tr>\n",
       "    <tr>\n",
       "      <th>29</th>\n",
       "      <td>8.666667</td>\n",
       "      <td>5.900000</td>\n",
       "    </tr>\n",
       "    <tr>\n",
       "      <th>...</th>\n",
       "      <td>...</td>\n",
       "      <td>...</td>\n",
       "    </tr>\n",
       "    <tr>\n",
       "      <th>59</th>\n",
       "      <td>4.585577</td>\n",
       "      <td>4.341316</td>\n",
       "    </tr>\n",
       "    <tr>\n",
       "      <th>60</th>\n",
       "      <td>5.636111</td>\n",
       "      <td>5.493151</td>\n",
       "    </tr>\n",
       "    <tr>\n",
       "      <th>61</th>\n",
       "      <td>10.285714</td>\n",
       "      <td>8.833333</td>\n",
       "    </tr>\n",
       "    <tr>\n",
       "      <th>62</th>\n",
       "      <td>5.523810</td>\n",
       "      <td>5.157143</td>\n",
       "    </tr>\n",
       "    <tr>\n",
       "      <th>63</th>\n",
       "      <td>4.363636</td>\n",
       "      <td>4.083333</td>\n",
       "    </tr>\n",
       "    <tr>\n",
       "      <th>64</th>\n",
       "      <td>3.824566</td>\n",
       "      <td>4.176010</td>\n",
       "    </tr>\n",
       "    <tr>\n",
       "      <th>65</th>\n",
       "      <td>4.416182</td>\n",
       "      <td>4.474571</td>\n",
       "    </tr>\n",
       "    <tr>\n",
       "      <th>66</th>\n",
       "      <td>4.635378</td>\n",
       "      <td>4.606003</td>\n",
       "    </tr>\n",
       "    <tr>\n",
       "      <th>67</th>\n",
       "      <td>3.571429</td>\n",
       "      <td>2.000000</td>\n",
       "    </tr>\n",
       "    <tr>\n",
       "      <th>68</th>\n",
       "      <td>5.414894</td>\n",
       "      <td>5.470000</td>\n",
       "    </tr>\n",
       "    <tr>\n",
       "      <th>69</th>\n",
       "      <td>4.157025</td>\n",
       "      <td>3.750000</td>\n",
       "    </tr>\n",
       "    <tr>\n",
       "      <th>70</th>\n",
       "      <td>3.382353</td>\n",
       "      <td>4.351351</td>\n",
       "    </tr>\n",
       "    <tr>\n",
       "      <th>71</th>\n",
       "      <td>5.350000</td>\n",
       "      <td>5.558824</td>\n",
       "    </tr>\n",
       "    <tr>\n",
       "      <th>72</th>\n",
       "      <td>4.740248</td>\n",
       "      <td>4.422239</td>\n",
       "    </tr>\n",
       "    <tr>\n",
       "      <th>73</th>\n",
       "      <td>4.363383</td>\n",
       "      <td>4.453637</td>\n",
       "    </tr>\n",
       "    <tr>\n",
       "      <th>74</th>\n",
       "      <td>4.691496</td>\n",
       "      <td>4.324878</td>\n",
       "    </tr>\n",
       "    <tr>\n",
       "      <th>75</th>\n",
       "      <td>4.854545</td>\n",
       "      <td>3.509091</td>\n",
       "    </tr>\n",
       "    <tr>\n",
       "      <th>76</th>\n",
       "      <td>6.205882</td>\n",
       "      <td>4.787879</td>\n",
       "    </tr>\n",
       "    <tr>\n",
       "      <th>77</th>\n",
       "      <td>4.733796</td>\n",
       "      <td>4.496956</td>\n",
       "    </tr>\n",
       "    <tr>\n",
       "      <th>78</th>\n",
       "      <td>5.119760</td>\n",
       "      <td>4.214724</td>\n",
       "    </tr>\n",
       "    <tr>\n",
       "      <th>79</th>\n",
       "      <td>11.241379</td>\n",
       "      <td>11.920000</td>\n",
       "    </tr>\n",
       "    <tr>\n",
       "      <th>80</th>\n",
       "      <td>5.579365</td>\n",
       "      <td>3.952381</td>\n",
       "    </tr>\n",
       "    <tr>\n",
       "      <th>81</th>\n",
       "      <td>9.523810</td>\n",
       "      <td>8.200000</td>\n",
       "    </tr>\n",
       "    <tr>\n",
       "      <th>82</th>\n",
       "      <td>9.285714</td>\n",
       "      <td>3.750000</td>\n",
       "    </tr>\n",
       "    <tr>\n",
       "      <th>83</th>\n",
       "      <td>8.722222</td>\n",
       "      <td>6.000000</td>\n",
       "    </tr>\n",
       "    <tr>\n",
       "      <th>84</th>\n",
       "      <td>3.750000</td>\n",
       "      <td>3.875000</td>\n",
       "    </tr>\n",
       "    <tr>\n",
       "      <th>85</th>\n",
       "      <td>4.566667</td>\n",
       "      <td>3.363636</td>\n",
       "    </tr>\n",
       "    <tr>\n",
       "      <th>86</th>\n",
       "      <td>4.501992</td>\n",
       "      <td>3.908745</td>\n",
       "    </tr>\n",
       "    <tr>\n",
       "      <th>87</th>\n",
       "      <td>6.158833</td>\n",
       "      <td>4.794753</td>\n",
       "    </tr>\n",
       "    <tr>\n",
       "      <th>88</th>\n",
       "      <td>4.263896</td>\n",
       "      <td>4.106083</td>\n",
       "    </tr>\n",
       "  </tbody>\n",
       "</table>\n",
       "<p>89 rows × 2 columns</p>\n",
       "</div>"
      ],
      "text/plain": [
       "         Home       Away\n",
       "0    4.248897   4.418251\n",
       "1    4.803106   4.289284\n",
       "2    4.654961   4.415851\n",
       "3    4.394303   4.226244\n",
       "4    6.018576   4.588589\n",
       "5   10.684211   7.825581\n",
       "6    6.706522   5.362434\n",
       "7    3.000000   4.600000\n",
       "8    4.972006   4.357090\n",
       "9    5.357143   5.071429\n",
       "10   5.951456   4.707865\n",
       "11   5.789474   4.387097\n",
       "12   7.428571   7.347826\n",
       "13   4.865551   4.367187\n",
       "14   4.373861   4.329189\n",
       "15   4.655382   4.310453\n",
       "16   8.250000   8.322581\n",
       "17   4.487273   4.383212\n",
       "18   6.406061   4.881269\n",
       "19   4.715686   5.504762\n",
       "20   5.762376   5.296296\n",
       "21   4.595838   4.459867\n",
       "22   4.930233   4.517045\n",
       "23   6.533333   4.438596\n",
       "24   6.150115   3.946133\n",
       "25   4.757010   4.454701\n",
       "26   5.988584   5.054299\n",
       "27   4.250000   4.266667\n",
       "28   4.244465   4.271093\n",
       "29   8.666667   5.900000\n",
       "..        ...        ...\n",
       "59   4.585577   4.341316\n",
       "60   5.636111   5.493151\n",
       "61  10.285714   8.833333\n",
       "62   5.523810   5.157143\n",
       "63   4.363636   4.083333\n",
       "64   3.824566   4.176010\n",
       "65   4.416182   4.474571\n",
       "66   4.635378   4.606003\n",
       "67   3.571429   2.000000\n",
       "68   5.414894   5.470000\n",
       "69   4.157025   3.750000\n",
       "70   3.382353   4.351351\n",
       "71   5.350000   5.558824\n",
       "72   4.740248   4.422239\n",
       "73   4.363383   4.453637\n",
       "74   4.691496   4.324878\n",
       "75   4.854545   3.509091\n",
       "76   6.205882   4.787879\n",
       "77   4.733796   4.496956\n",
       "78   5.119760   4.214724\n",
       "79  11.241379  11.920000\n",
       "80   5.579365   3.952381\n",
       "81   9.523810   8.200000\n",
       "82   9.285714   3.750000\n",
       "83   8.722222   6.000000\n",
       "84   3.750000   3.875000\n",
       "85   4.566667   3.363636\n",
       "86   4.501992   3.908745\n",
       "87   6.158833   4.794753\n",
       "88   4.263896   4.106083\n",
       "\n",
       "[89 rows x 2 columns]"
      ]
     },
     "execution_count": 10,
     "metadata": {},
     "output_type": "execute_result"
    }
   ],
   "source": [
    "dict = {'Home': avgHomeList, 'Away': avgAwayList}   \n",
    "df_Scores = pd.DataFrame(dict) \n",
    "df_Scores"
   ]
  },
  {
   "cell_type": "code",
   "execution_count": 11,
   "metadata": {},
   "outputs": [],
   "source": [
    "X = df_Scores['Home'].values.reshape(-1,1)\n",
    "y = df_Scores['Away'].values.reshape(-1,1)"
   ]
  },
  {
   "cell_type": "code",
   "execution_count": 12,
   "metadata": {},
   "outputs": [],
   "source": [
    "from sklearn.model_selection import train_test_split \n",
    "from sklearn.linear_model import LinearRegression\n",
    "from sklearn import metrics\n",
    "\n",
    "X_train, X_test, y_train, y_test = train_test_split(X, y, test_size=0.2, random_state=0)"
   ]
  },
  {
   "cell_type": "code",
   "execution_count": 13,
   "metadata": {},
   "outputs": [
    {
     "data": {
      "text/plain": [
       "LinearRegression(copy_X=True, fit_intercept=True, n_jobs=None, normalize=False)"
      ]
     },
     "execution_count": 13,
     "metadata": {},
     "output_type": "execute_result"
    }
   ],
   "source": [
    "regressor = LinearRegression()  \n",
    "regressor.fit(X_train, y_train) #training the algorithm"
   ]
  },
  {
   "cell_type": "code",
   "execution_count": 14,
   "metadata": {},
   "outputs": [
    {
     "name": "stdout",
     "output_type": "stream",
     "text": [
      "[1.64542852]\n",
      "[[0.57601894]]\n"
     ]
    }
   ],
   "source": [
    "#To retrieve the intercept:\n",
    "print(regressor.intercept_)\n",
    "#For retrieving the slope:\n",
    "print(regressor.coef_)"
   ]
  },
  {
   "cell_type": "code",
   "execution_count": 15,
   "metadata": {},
   "outputs": [
    {
     "data": {
      "text/plain": [
       "array([[4.32677429],\n",
       "       [4.44807793],\n",
       "       [7.61109835],\n",
       "       [4.94920232],\n",
       "       [4.31549425],\n",
       "       [4.05254902],\n",
       "       [4.57160473],\n",
       "       [4.2146648 ],\n",
       "       [4.59450751],\n",
       "       [4.1015132 ],\n",
       "       [3.37348533],\n",
       "       [5.09496659],\n",
       "       [4.06470806],\n",
       "       [4.1589657 ],\n",
       "       [4.50939836],\n",
       "       [6.39758476],\n",
       "       [5.18801151],\n",
       "       [5.67244547]])"
      ]
     },
     "execution_count": 15,
     "metadata": {},
     "output_type": "execute_result"
    }
   ],
   "source": [
    "y_pred = regressor.predict(X_test)\n",
    "y_pred"
   ]
  },
  {
   "cell_type": "code",
   "execution_count": 16,
   "metadata": {},
   "outputs": [],
   "source": [
    "y_pred = [y for x in y_pred for y in x]\n",
    "y_test = [y for x in y_test for y in x]\n",
    "X_test = [y for x in X_test for y in x]\n",
    "X_train = [y for x in X_train for y in x]\n",
    "y_train = [y for x in y_train for y in x]"
   ]
  },
  {
   "cell_type": "code",
   "execution_count": 17,
   "metadata": {},
   "outputs": [
    {
     "data": {
      "text/html": [
       "<div>\n",
       "<style scoped>\n",
       "    .dataframe tbody tr th:only-of-type {\n",
       "        vertical-align: middle;\n",
       "    }\n",
       "\n",
       "    .dataframe tbody tr th {\n",
       "        vertical-align: top;\n",
       "    }\n",
       "\n",
       "    .dataframe thead th {\n",
       "        text-align: right;\n",
       "    }\n",
       "</style>\n",
       "<table border=\"1\" class=\"dataframe\">\n",
       "  <thead>\n",
       "    <tr style=\"text-align: right;\">\n",
       "      <th></th>\n",
       "      <th>Actual</th>\n",
       "      <th>Predicted</th>\n",
       "    </tr>\n",
       "  </thead>\n",
       "  <tbody>\n",
       "    <tr>\n",
       "      <th>0</th>\n",
       "      <td>4.415851</td>\n",
       "      <td>4.326774</td>\n",
       "    </tr>\n",
       "    <tr>\n",
       "      <th>1</th>\n",
       "      <td>4.367187</td>\n",
       "      <td>4.448078</td>\n",
       "    </tr>\n",
       "    <tr>\n",
       "      <th>2</th>\n",
       "      <td>7.675676</td>\n",
       "      <td>7.611098</td>\n",
       "    </tr>\n",
       "    <tr>\n",
       "      <th>3</th>\n",
       "      <td>4.883929</td>\n",
       "      <td>4.949202</td>\n",
       "    </tr>\n",
       "    <tr>\n",
       "      <th>4</th>\n",
       "      <td>4.606003</td>\n",
       "      <td>4.315494</td>\n",
       "    </tr>\n",
       "    <tr>\n",
       "      <th>5</th>\n",
       "      <td>4.253413</td>\n",
       "      <td>4.052549</td>\n",
       "    </tr>\n",
       "    <tr>\n",
       "      <th>6</th>\n",
       "      <td>3.583333</td>\n",
       "      <td>4.571605</td>\n",
       "    </tr>\n",
       "    <tr>\n",
       "      <th>7</th>\n",
       "      <td>4.407769</td>\n",
       "      <td>4.214665</td>\n",
       "    </tr>\n",
       "    <tr>\n",
       "      <th>8</th>\n",
       "      <td>4.214724</td>\n",
       "      <td>4.594508</td>\n",
       "    </tr>\n",
       "    <tr>\n",
       "      <th>9</th>\n",
       "      <td>4.106083</td>\n",
       "      <td>4.101513</td>\n",
       "    </tr>\n",
       "    <tr>\n",
       "      <th>10</th>\n",
       "      <td>4.600000</td>\n",
       "      <td>3.373485</td>\n",
       "    </tr>\n",
       "    <tr>\n",
       "      <th>11</th>\n",
       "      <td>5.054299</td>\n",
       "      <td>5.094967</td>\n",
       "    </tr>\n",
       "    <tr>\n",
       "      <th>12</th>\n",
       "      <td>4.218182</td>\n",
       "      <td>4.064708</td>\n",
       "    </tr>\n",
       "    <tr>\n",
       "      <th>13</th>\n",
       "      <td>4.083333</td>\n",
       "      <td>4.158966</td>\n",
       "    </tr>\n",
       "    <tr>\n",
       "      <th>14</th>\n",
       "      <td>4.357090</td>\n",
       "      <td>4.509398</td>\n",
       "    </tr>\n",
       "    <tr>\n",
       "      <th>15</th>\n",
       "      <td>8.322581</td>\n",
       "      <td>6.397585</td>\n",
       "    </tr>\n",
       "    <tr>\n",
       "      <th>16</th>\n",
       "      <td>3.946133</td>\n",
       "      <td>5.188012</td>\n",
       "    </tr>\n",
       "    <tr>\n",
       "      <th>17</th>\n",
       "      <td>5.302144</td>\n",
       "      <td>5.672445</td>\n",
       "    </tr>\n",
       "  </tbody>\n",
       "</table>\n",
       "</div>"
      ],
      "text/plain": [
       "      Actual  Predicted\n",
       "0   4.415851   4.326774\n",
       "1   4.367187   4.448078\n",
       "2   7.675676   7.611098\n",
       "3   4.883929   4.949202\n",
       "4   4.606003   4.315494\n",
       "5   4.253413   4.052549\n",
       "6   3.583333   4.571605\n",
       "7   4.407769   4.214665\n",
       "8   4.214724   4.594508\n",
       "9   4.106083   4.101513\n",
       "10  4.600000   3.373485\n",
       "11  5.054299   5.094967\n",
       "12  4.218182   4.064708\n",
       "13  4.083333   4.158966\n",
       "14  4.357090   4.509398\n",
       "15  8.322581   6.397585\n",
       "16  3.946133   5.188012\n",
       "17  5.302144   5.672445"
      ]
     },
     "execution_count": 17,
     "metadata": {},
     "output_type": "execute_result"
    }
   ],
   "source": [
    "dict = {'Actual': y_test, 'Predicted': y_pred}   \n",
    "df_pred = pd.DataFrame(dict) \n",
    "df_pred\n",
    " "
   ]
  },
  {
   "cell_type": "code",
   "execution_count": 18,
   "metadata": {},
   "outputs": [
    {
     "data": {
      "image/png": "[encoded data removed]",
      "text/plain": [
       "<Figure size 720x576 with 1 Axes>"
      ]
     },
     "metadata": {},
     "output_type": "display_data"
    }
   ],
   "source": [
    "df_pred.plot(kind='bar',figsize=(10,8))\n",
    "plt.grid(which='major', linestyle='-', linewidth='0.5', color='green')\n",
    "plt.grid(which='minor', linestyle=':', linewidth='0.5', color='black')\n",
    "plt.show()"
   ]
  },
  {
   "cell_type": "code",
   "execution_count": 19,
   "metadata": {},
   "outputs": [
    {
     "name": "stdout",
     "output_type": "stream",
     "text": [
      "Mean Absolute Error: 0.41903861474218224\n",
      "Mean Squared Error: 0.458296497664083\n",
      "Root Mean Squared Error: 0.6769759948950058\n"
     ]
    }
   ],
   "source": [
    "print('Mean Absolute Error:', metrics.mean_absolute_error(y_test, y_pred))  \n",
    "print('Mean Squared Error:', metrics.mean_squared_error(y_test, y_pred))  \n",
    "print('Root Mean Squared Error:', np.sqrt(metrics.mean_squared_error(y_test, y_pred)))\n"
   ]
  },
  {
   "cell_type": "markdown",
   "metadata": {},
   "source": [
    "## Linear Regression"
   ]
  },
  {
   "cell_type": "code",
   "execution_count": 20,
   "metadata": {},
   "outputs": [
    {
     "data": {
      "image/png": "[encoded data removed]",
      "text/plain": [
       "<Figure size 432x288 with 1 Axes>"
      ]
     },
     "metadata": {},
     "output_type": "display_data"
    }
   ],
   "source": [
    "plt.scatter(avgHome, avgAway,  color='black')\n",
    "plt.plot(X_test, y_pred, color='blue', linewidth=3)\n",
    "plt.xlabel(\"Average Home Score\")\n",
    "plt.ylabel(\"Average Away Score\")\n",
    "plt.show()"
   ]
  },
  {
   "cell_type": "markdown",
   "metadata": {},
   "source": [
    "In this plot, each point represents a team. The x-axis represents the average home score while the y-axis represents the average away score.I used the data to calculate the average score for each team's away and homes games. I used these averages to predict and calculate averages for the regression line. The blue regression line shows that a team scores higher during home games compared to away games."
   ]
  },
  {
   "cell_type": "markdown",
   "metadata": {},
   "source": [
    "## Gradient Boosting Regression"
   ]
  },
  {
   "cell_type": "code",
   "execution_count": 21,
   "metadata": {},
   "outputs": [],
   "source": [
    "from sklearn import ensemble\n",
    "from sklearn import linear_model"
   ]
  },
  {
   "cell_type": "code",
   "execution_count": 22,
   "metadata": {},
   "outputs": [
    {
     "name": "stdout",
     "output_type": "stream",
     "text": [
      "[ 0.08907716 -0.08089115  0.06457733 -0.06527375  0.29050915  0.20086394\n",
      " -0.98827139  0.19310456 -0.37978359  0.00456952  1.22651467 -0.04066795\n",
      "  0.15347376 -0.07563237 -0.15230877  1.92499588 -1.24187891 -0.37030122]\n"
     ]
    },
    {
     "data": {
      "image/png": "[encoded data removed]",
      "text/plain": [
       "<Figure size 720x360 with 1 Axes>"
      ]
     },
     "metadata": {},
     "output_type": "display_data"
    }
   ],
   "source": [
    "plt.figure(figsize=(10, 5))\n",
    "plt.title(\"Residuals $(y - \\hat{y})$ of Linear Regression model\")\n",
    "arr=np.array(y_test)-np.array(y_pred)\n",
    "#list1=y_test-y_pred\n",
    "print(arr)\n",
    "plt.scatter(X_test,arr, color='brown')\n",
    "plt.show()"
   ]
  },
  {
   "cell_type": "code",
   "execution_count": 23,
   "metadata": {},
   "outputs": [
    {
     "name": "stderr",
     "output_type": "stream",
     "text": [
      "C:\\Users\\Sandy\\AppData\\Roaming\\Python\\Python36\\site-packages\\sklearn\\ensemble\\gradient_boosting.py:1450: DataConversionWarning: A column-vector y was passed when a 1d array was expected. Please change the shape of y to (n_samples, ), for example using ravel().\n",
      "  y = column_or_1d(y, warn=True)\n"
     ]
    },
    {
     "data": {
      "text/plain": [
       "GradientBoostingRegressor(alpha=0.9, criterion='mse', init=None,\n",
       "                          learning_rate=1, loss='ls', max_depth=4,\n",
       "                          max_features=None, max_leaf_nodes=None,\n",
       "                          min_impurity_decrease=0.0, min_impurity_split=None,\n",
       "                          min_samples_leaf=1, min_samples_split=2,\n",
       "                          min_weight_fraction_leaf=0.0, n_estimators=500,\n",
       "                          n_iter_no_change=None, presort='auto',\n",
       "                          random_state=None, subsample=1.0, tol=0.0001,\n",
       "                          validation_fraction=0.1, verbose=0, warm_start=False)"
      ]
     },
     "execution_count": 23,
     "metadata": {},
     "output_type": "execute_result"
    }
   ],
   "source": [
    "params = {\n",
    "    'n_estimators': 500,\n",
    "    'max_depth': 4,\n",
    "    'learning_rate': 1,\n",
    "    'criterion': 'mse'\n",
    "}\n",
    "x=np.array(X_test)\n",
    "x=x.reshape(-1, 1)\n",
    "y=np.array(y_pred)\n",
    "y=y.reshape(-1, 1)\n",
    "gradient_boosting_regressor = ensemble.GradientBoostingRegressor(**params)\n",
    "\n",
    "gradient_boosting_regressor.fit(x, y)"
   ]
  },
  {
   "cell_type": "code",
   "execution_count": 24,
   "metadata": {},
   "outputs": [
    {
     "data": {
      "image/png": "[encoded data removed]",
      "text/plain": [
       "<Figure size 720x360 with 1 Axes>"
      ]
     },
     "metadata": {},
     "output_type": "display_data"
    }
   ],
   "source": [
    "plt.figure(figsize=(10, 5))\n",
    "plt.title('Gradient Boosting model (1 estimators, Single tree split)')\n",
    "plt.scatter(avgHome, avgAway,  color='black')\n",
    "plt.plot(x, gradient_boosting_regressor.predict(x), color='r')\n",
    "plt.show()"
   ]
  },
  {
   "cell_type": "markdown",
   "metadata": {},
   "source": [
    "The gradient boosting regression exhibits similar conclusions as the linear regression."
   ]
  },
  {
   "cell_type": "code",
   "execution_count": null,
   "metadata": {},
   "outputs": [],
   "source": []
  }
 ],
 "metadata": {
  "kernelspec": {
   "display_name": "Python 3",
   "language": "python",
   "name": "python3"
  },
  "language_info": {
   "codemirror_mode": {
    "name": "ipython",
    "version": 3
   },
   "file_extension": ".py",
   "mimetype": "text/x-python",
   "name": "python",
   "nbconvert_exporter": "python",
   "pygments_lexer": "ipython3",
   "version": "3.6.5"
  }
 },
 "nbformat": 4,
 "nbformat_minor": 2
}
